{
 "cells": [
  {
   "cell_type": "code",
   "execution_count": 9,
   "metadata": {},
   "outputs": [
    {
     "name": "stdout",
     "output_type": "stream",
     "text": [
      "-1\n",
      "-1\n",
      "-1\n",
      "-1\n",
      "-1\n"
     ]
    }
   ],
   "source": [
    "def linearsearch():\n",
    "    l=[10,9,8,7,6]\n",
    "    for item in range(len(l)):\n",
    "        if 5 in l:\n",
    "            print(\"1\")\n",
    "            break\n",
    "        else:\n",
    "            print('-1')\n",
    "       \n",
    "linearsearch()\n",
    "\n",
    "\n"
   ]
  },
  {
   "cell_type": "code",
   "execution_count": 1,
   "metadata": {},
   "outputs": [
    {
     "name": "stdout",
     "output_type": "stream",
     "text": [
      "square root of  1 is 1.0\n",
      "square root of  2 is 1.4142135623730951\n",
      "square root of  3 is 1.7320508075688772\n",
      "square root of  4 is 2.0\n",
      "square root of  5 is 2.23606797749979\n"
     ]
    }
   ],
   "source": [
    "def square_root():\n",
    "    l=[1,2,3,4,5]\n",
    "    for i in l:\n",
    "        j=i**(0.5)\n",
    "        print(\"square root of \",i,\"is\",j)\n",
    "   \n",
    "square_root()    "
   ]
  },
  {
   "cell_type": "code",
   "execution_count": 1,
   "metadata": {},
   "outputs": [
    {
     "name": "stdout",
     "output_type": "stream",
     "text": [
      "invalid\n",
      "{'name': 'rishi', 'phonenum': '8897979802'}\n"
     ]
    }
   ],
   "source": [
    "import re\n",
    "def contactdictionary(name,phonenum,email):\n",
    "    contactdictionary={}\n",
    "    pattern1='^[a-zA-Z_.]{3,47}$'\n",
    "    if(re.match(pattern1,name)):\n",
    "        contactdictionary['name']=name\n",
    "    else:\n",
    "        print(\"invalid\")\n",
    "    pattern2='^[6-9][0-9]{9}$'\n",
    "    if(re.match(pattern2,phonenum)):\n",
    "        contactdictionary['phonenum']=phonenum\n",
    "    else:\n",
    "        print(\"invalid\")\n",
    "    pattern3='^[a-z0-9][a-z_.]{3,14}[@][a-z]{3,12}[.][a-z]{2,3}'\n",
    "    if(re.match(pattern3,email)):\n",
    "        contactdictionary['email']=email\n",
    "    else:\n",
    "        print(\"invalid\")\n",
    "    print(contactdictionary)    \n",
    "contactdictionary('rishi','8897979802','mukkarishitareddy@gmail.com')"
   ]
  },
  {
   "cell_type": "code",
   "execution_count": 3,
   "metadata": {},
   "outputs": [
    {
     "name": "stdout",
     "output_type": "stream",
     "text": [
      "unique list= [1, 10, 9, 8]\n",
      "max value= 10\n",
      "min value= 1\n",
      "avearge= 1\n"
     ]
    }
   ],
   "source": [
    "def min_max():\n",
    "    l=[1,10,9,9,8,8]\n",
    "    l1=[]\n",
    "    for i in  l:\n",
    "        if i not in l1:\n",
    "            l1.append(i)\n",
    "    print(\"unique list=\",l1)\n",
    "    print('max value=',max(l1))\n",
    "    print(\"min value=\",min(l1))\n",
    "    j=0\n",
    "    for i in range(len(l)):\n",
    "        j=((j+l[i])//(len(l)))\n",
    "    print(\"avearge=\",j)\n",
    "   \n",
    "min_max()        \n"
   ]
  },
  {
   "cell_type": "markdown",
   "metadata": {},
   "source": [
    "## day objectives\n",
    "#### functional programming\n",
    "#### list comprehension \n",
    "#### iterators  and generators\n",
    "#### map\n",
    "#### filter\n",
    "#### lambda"
   ]
  },
  {
   "cell_type": "code",
   "execution_count": 7,
   "metadata": {},
   "outputs": [
    {
     "name": "stdout",
     "output_type": "stream",
     "text": [
      "[1, 2, 3, 4, 5, 6, 7, 8, 9, 10]\n"
     ]
    }
   ],
   "source": [
    "##list comprehension\n",
    "# list compresion is very easy way to create list\n",
    "## compared with for loop\n",
    "# program using list comprehension\n",
    "n=10\n",
    "li=[]\n",
    "for i in range(1,n+1):\n",
    "    li.append(i)\n",
    "print(li)\n",
    "\n"
   ]
  },
  {
   "cell_type": "code",
   "execution_count": 8,
   "metadata": {},
   "outputs": [
    {
     "data": {
      "text/plain": [
       "[1, 2, 3, 4, 5, 6, 7, 8, 9, 10]"
      ]
     },
     "execution_count": 8,
     "metadata": {},
     "output_type": "execute_result"
    }
   ],
   "source": [
    "##using list comprehension\n",
    "li=[i for i in range(1,11)]\n",
    "li"
   ]
  },
  {
   "cell_type": "code",
   "execution_count": 13,
   "metadata": {},
   "outputs": [
    {
     "data": {
      "text/plain": [
       "[1, 64, 729, 4096, 15625, 46656, 117649, 262144, 531441, 1000000]"
      ]
     },
     "execution_count": 13,
     "metadata": {},
     "output_type": "execute_result"
    }
   ],
   "source": [
    "##cubes\n",
    "li=[i**2 for i in  li]\n",
    "li"
   ]
  },
  {
   "cell_type": "code",
   "execution_count": 17,
   "metadata": {},
   "outputs": [
    {
     "data": {
      "text/plain": [
       "[100, 400, 25, 4]"
      ]
     },
     "execution_count": 17,
     "metadata": {},
     "output_type": "execute_result"
    }
   ],
   "source": [
    "k=[10,20,5,2]\n",
    "k=[i**2 for i in k]\n",
    "k"
   ]
  },
  {
   "cell_type": "code",
   "execution_count": 21,
   "metadata": {},
   "outputs": [
    {
     "data": {
      "text/plain": [
       "[1940,\n",
       " 1944,\n",
       " 1948,\n",
       " 1952,\n",
       " 1956,\n",
       " 1960,\n",
       " 1964,\n",
       " 1968,\n",
       " 1972,\n",
       " 1976,\n",
       " 1980,\n",
       " 1984,\n",
       " 1988,\n",
       " 1992,\n",
       " 1996,\n",
       " 2000,\n",
       " 2004,\n",
       " 2008]"
      ]
     },
     "execution_count": 21,
     "metadata": {},
     "output_type": "execute_result"
    }
   ],
   "source": [
    "st=1940\n",
    "et=2010\n",
    "leapyear=[i for i in range(st,et+1)\n",
    "         if(i%400==0) or (i%100!=0 and i%4==0)]\n",
    "leapyear        "
   ]
  },
  {
   "cell_type": "code",
   "execution_count": 29,
   "metadata": {},
   "outputs": [
    {
     "name": "stdout",
     "output_type": "stream",
     "text": [
      "[100, 400, 25, 4]\n",
      "1\n",
      "3\n",
      "6\n",
      "10\n",
      "15\n"
     ]
    }
   ],
   "source": [
    "## cumulative sum\n",
    "def cumulative(n):\n",
    "    sum=0\n",
    "    li=[]\n",
    "    for i in range(1,n+1):\n",
    "        sum=sum+i\n",
    "        print(sum)\n",
    "        li.append(sum)\n",
    "print(li)\n",
    "cumulative(5)\n",
    "    "
   ]
  },
  {
   "cell_type": "code",
   "execution_count": 7,
   "metadata": {},
   "outputs": [
    {
     "name": "stdout",
     "output_type": "stream",
     "text": [
      "1\n",
      "2\n",
      "6\n",
      "24\n",
      "[1, 2, 6, 24]\n"
     ]
    }
   ],
   "source": [
    "def cumulativemul(n):\n",
    "    mul=1\n",
    "    li=[]\n",
    "    for i in range(1,n+1):\n",
    "        mul=mul*i\n",
    "        print(mul)\n",
    "        li.append(mul)\n",
    "    print(li)\n",
    "cumulativemul(4)\n",
    "    \n",
    "    \n",
    "        \n",
    "    "
   ]
  },
  {
   "cell_type": "code",
   "execution_count": 19,
   "metadata": {},
   "outputs": [
    {
     "data": {
      "text/plain": [
       "[1, 3]"
      ]
     },
     "execution_count": 19,
     "metadata": {},
     "output_type": "execute_result"
    }
   ],
   "source": [
    "\n",
    "cumulativesum=[sum(range(1,i+1)) for i in range(1,3)]\n",
    "cumulativesum"
   ]
  },
  {
   "cell_type": "code",
   "execution_count": 18,
   "metadata": {},
   "outputs": [
    {
     "data": {
      "text/plain": [
       "[0, 1, 3, 6, 10, 15]"
      ]
     },
     "execution_count": 18,
     "metadata": {},
     "output_type": "execute_result"
    }
   ],
   "source": [
    "\n",
    "cumulativemul=[sum(range(1,i*1)) for i in range(1,7)]\n",
    "cumulativemul"
   ]
  },
  {
   "cell_type": "markdown",
   "metadata": {},
   "source": [
    "## iterators\n",
    "# iterator is an object that contains number of elements\n",
    "#2-methods\n",
    "#iter()\n",
    "#next()\n",
    "#all ds are iterable objects\n",
    "\n",
    "\n"
   ]
  },
  {
   "cell_type": "code",
   "execution_count": 20,
   "metadata": {},
   "outputs": [
    {
     "name": "stdout",
     "output_type": "stream",
     "text": [
      "<str_iterator object at 0x000001E5DB881A20>\n"
     ]
    }
   ],
   "source": [
    "it='python'\n",
    "it=iter('python')\n",
    "print(it)"
   ]
  },
  {
   "cell_type": "code",
   "execution_count": 25,
   "metadata": {},
   "outputs": [
    {
     "name": "stdout",
     "output_type": "stream",
     "text": [
      "p\n",
      "y\n",
      "t\n",
      "h\n",
      "o\n",
      "n\n"
     ]
    }
   ],
   "source": [
    "it='python'\n",
    "it=iter('python')\n",
    "print(next(it))\n",
    "print(next(it))\n",
    "print(next(it))\n",
    "print(next(it))\n",
    "print(next(it))\n",
    "print(next(it))"
   ]
  },
  {
   "cell_type": "code",
   "execution_count": 23,
   "metadata": {},
   "outputs": [
    {
     "name": "stdout",
     "output_type": "stream",
     "text": [
      "p\n",
      "y\n",
      "t\n",
      "h\n",
      "o\n",
      "n\n",
      "p\n",
      "r\n",
      "o\n",
      "g\n",
      "r\n",
      "a\n",
      "m\n"
     ]
    }
   ],
   "source": [
    "it='pythonprogram'\n",
    "for i in it:\n",
    "    print(i)"
   ]
  },
  {
   "cell_type": "code",
   "execution_count": 28,
   "metadata": {},
   "outputs": [
    {
     "name": "stdout",
     "output_type": "stream",
     "text": [
      "c\n",
      "python\n"
     ]
    }
   ],
   "source": [
    "course=['c','python']\n",
    "result=iter(course)\n",
    "print(next(result))\n",
    "print(next(result))"
   ]
  },
  {
   "cell_type": "code",
   "execution_count": 29,
   "metadata": {},
   "outputs": [
    {
     "name": "stdout",
     "output_type": "stream",
     "text": [
      "cse\n",
      "IT\n"
     ]
    }
   ],
   "source": [
    "course=['cse','IT']\n",
    "result=iter(course)\n",
    "print(next(result))\n",
    "print(next(result))"
   ]
  },
  {
   "cell_type": "markdown",
   "metadata": {},
   "source": [
    "## generators\n",
    "\n",
    "#generators is a function .we can create iterators\n",
    "\n",
    "#in other words generator is a function which return\n",
    "\n",
    "it uses \"yeild\" instead of return\n"
   ]
  },
  {
   "cell_type": "code",
   "execution_count": 33,
   "metadata": {},
   "outputs": [
    {
     "name": "stdout",
     "output_type": "stream",
     "text": [
      "4\n",
      "5\n",
      "6\n"
     ]
    }
   ],
   "source": [
    "def generatorfunction():\n",
    "    yield 4\n",
    "    yield 5\n",
    "    yield 6\n",
    "generatorfunction()\n",
    "for value in generatorfunction():\n",
    "    print(value)\n"
   ]
  },
  {
   "cell_type": "code",
   "execution_count": 34,
   "metadata": {},
   "outputs": [
    {
     "name": "stdout",
     "output_type": "stream",
     "text": [
      "mukka\n",
      "rishita\n",
      "reddy\n"
     ]
    }
   ],
   "source": [
    "def generatorfunction():\n",
    "    yield \"mukka\"\n",
    "    yield \"rishita\"\n",
    "    yield \"reddy\"\n",
    "generatorfunction()\n",
    "for value in generatorfunction():\n",
    "    print(value)\n"
   ]
  },
  {
   "cell_type": "code",
   "execution_count": 36,
   "metadata": {},
   "outputs": [
    {
     "name": "stdout",
     "output_type": "stream",
     "text": [
      "4\n",
      "16\n",
      "256\n",
      "65536\n",
      "4294967296\n"
     ]
    }
   ],
   "source": [
    "## squaring of number of a given range\n",
    "def gen():\n",
    "    n=2\n",
    "    while True:\n",
    "        n**=2\n",
    "        yield n\n",
    "a=gen()\n",
    "for i in range(5):\n",
    "    print(next(a))\n"
   ]
  },
  {
   "cell_type": "code",
   "execution_count": 40,
   "metadata": {},
   "outputs": [
    {
     "name": "stdout",
     "output_type": "stream",
     "text": [
      "27\n",
      "19683\n",
      "7625597484987\n",
      "443426488243037769948249630619149892803\n",
      "87189642485960958202911070585860771696964072404731750085525219437990967093723439943475549906831683116791055225665627\n"
     ]
    }
   ],
   "source": [
    "def gen():\n",
    "    n=3\n",
    "    while True:\n",
    "        n**=3\n",
    "        yield n\n",
    "a=gen()\n",
    "for i in range(5):\n",
    "    print(next(a))\n",
    "    \n"
   ]
  },
  {
   "cell_type": "markdown",
   "metadata": {},
   "source": [
    "## maps\n",
    "#it produces a list of results that it apply given function to each item of a given iterable(list,tupl,sets,etc....)\n",
    "syntax map(function,iterable)\n",
    "\n"
   ]
  },
  {
   "cell_type": "code",
   "execution_count": 48,
   "metadata": {},
   "outputs": [
    {
     "name": "stdout",
     "output_type": "stream",
     "text": [
      "[2, 4, 6, 8]\n"
     ]
    }
   ],
   "source": [
    "def addition(n):\n",
    "    return n+n\n",
    "result = list(map(addition,range(1,5)))\n",
    "print(result)"
   ]
  },
  {
   "cell_type": "code",
   "execution_count": 54,
   "metadata": {},
   "outputs": [
    {
     "name": "stdout",
     "output_type": "stream",
     "text": [
      "[2, 4, 6, 8, 10, 12, 14, 16, 18]\n"
     ]
    }
   ],
   "source": [
    "def multiplication(k):\n",
    "    return k*2\n",
    "result = list(map(multiplication,range(1,10)))\n",
    "print(result)"
   ]
  },
  {
   "cell_type": "code",
   "execution_count": 56,
   "metadata": {},
   "outputs": [
    {
     "name": "stdout",
     "output_type": "stream",
     "text": [
      "{16, 1, 4, 9}\n"
     ]
    }
   ],
   "source": [
    "# function to print squares of number in given range between 1 to 5\n",
    "def squareofnum(n):\n",
    "    return n*n\n",
    "result = set(map(squareofnum,range(1,5)))\n",
    "print(result)\n",
    "    "
   ]
  },
  {
   "cell_type": "code",
   "execution_count": 57,
   "metadata": {},
   "outputs": [
    {
     "name": "stdout",
     "output_type": "stream",
     "text": [
      "(1, 4, 9, 16)\n"
     ]
    }
   ],
   "source": [
    "def squareofnum(n):\n",
    "    return n*n\n",
    "result = tuple(map(squareofnum,range(1,5)))\n",
    "print(result)\n",
    "    "
   ]
  },
  {
   "cell_type": "code",
   "execution_count": null,
   "metadata": {},
   "outputs": [],
   "source": [
    "# filters in python\n",
    "# filter function is used to check wheather the given element is boolean or not \n",
    "# this method filters the given iterable ,test each element is true or false ,and return the element which is true.\n",
    "# syntax f:x->{t,f}"
   ]
  },
  {
   "cell_type": "code",
   "execution_count": 61,
   "metadata": {},
   "outputs": [
    {
     "data": {
      "text/plain": [
       "[1, 2]"
      ]
     },
     "execution_count": 61,
     "metadata": {},
     "output_type": "execute_result"
    }
   ],
   "source": [
    "li=[1,2,'a','b']\n",
    "\n",
    "def isdigit(c):\n",
    "    c=str(c)\n",
    "    if c.isdigit():\n",
    "        return True\n",
    "    return False\n",
    "isdigit('a')\n",
    "list(filter(isdigit,li))"
   ]
  },
  {
   "cell_type": "code",
   "execution_count": 66,
   "metadata": {},
   "outputs": [
    {
     "data": {
      "text/plain": [
       "True"
      ]
     },
     "execution_count": 66,
     "metadata": {},
     "output_type": "execute_result"
    }
   ],
   "source": [
    "li=[1,2,'a','b']\n",
    "\n",
    "def isdigit(c):\n",
    "    c=str(c)\n",
    "    if c.isdigit():\n",
    "        return True\n",
    "    return False\n",
    "isdigit(4)"
   ]
  },
  {
   "cell_type": "markdown",
   "metadata": {},
   "source": [
    "## numpy"
   ]
  },
  {
   "cell_type": "raw",
   "metadata": {},
   "source": [
    "- numpy is a python library and a fundamental package for scientific computing in python.\n",
    "\n",
    "- it is used to create multidimensional arrays for fast operations.\n",
    "\n",
    "- use the following import conversions to access numpy library.\n",
    "\n",
    "- import  numpy as np.\n",
    "\n",
    "- numpy have a fixed size of array used to store a collection of elements,unlike python lists.     \n"
   ]
  },
  {
   "cell_type": "code",
   "execution_count": 4,
   "metadata": {},
   "outputs": [
    {
     "name": "stdout",
     "output_type": "stream",
     "text": [
      "[2 3 4 5 6 7]\n"
     ]
    }
   ],
   "source": [
    "# creating 1d array using numpy\n",
    "import numpy as np\n",
    "array_1d=np.array([2,3,4,5,6,7])\n",
    "print(array_1d)"
   ]
  },
  {
   "cell_type": "code",
   "execution_count": 11,
   "metadata": {},
   "outputs": [
    {
     "name": "stdout",
     "output_type": "stream",
     "text": [
      "[[2 3 4]\n",
      " [5 6 7]]\n"
     ]
    }
   ],
   "source": [
    "# creating 2d array using numpy\n",
    "import numpy as np\n",
    "array_2d=np.array([[2,3,4],[5,6,7]])\n",
    "print(array_2d)\n"
   ]
  },
  {
   "cell_type": "code",
   "execution_count": 12,
   "metadata": {},
   "outputs": [
    {
     "name": "stdout",
     "output_type": "stream",
     "text": [
      "[[2 3 4]\n",
      " [5 6 7]\n",
      " [8 9 1]]\n"
     ]
    }
   ],
   "source": [
    "# creating 3d array using numpy\n",
    "import numpy as np\n",
    "array_3d=np.array([[2,3,4],[5,6,7],[8,9,1]])\n",
    "print(array_3d)"
   ]
  },
  {
   "cell_type": "code",
   "execution_count": 13,
   "metadata": {},
   "outputs": [
    {
     "name": "stdout",
     "output_type": "stream",
     "text": [
      "['1' '2' '3' 'rishi']\n"
     ]
    }
   ],
   "source": [
    "# program to  print the given list in to array\n",
    "import numpy as np\n",
    "li=[1,2,3,'rishi']\n",
    "a=np.array(li)\n",
    "print(a)"
   ]
  },
  {
   "cell_type": "code",
   "execution_count": 14,
   "metadata": {},
   "outputs": [
    {
     "data": {
      "text/plain": [
       "array(['1', '2', '3', 'rishi'], dtype='<U11')"
      ]
     },
     "execution_count": 14,
     "metadata": {},
     "output_type": "execute_result"
    }
   ],
   "source": [
    "# program to  print the given list in to array\n",
    "import numpy as np\n",
    "li=[1,2,3,'rishi']\n",
    "a=np.array(li)\n",
    "a"
   ]
  },
  {
   "cell_type": "markdown",
   "metadata": {},
   "source": [
    "-if the size of the array is large to type,we can simply use array range called \"arange\""
   ]
  },
  {
   "cell_type": "code",
   "execution_count": 22,
   "metadata": {},
   "outputs": [
    {
     "name": "stdout",
     "output_type": "stream",
     "text": [
      "[ 0  1  2  3  4  5  6  7  8  9 10 11 12 13 14 15]\n"
     ]
    }
   ],
   "source": [
    "# example\n",
    "# to print 1d array between 1 to 15\n",
    "import numpy as np\n",
    "a = np.arange(16)\n",
    "print(a)\n"
   ]
  },
  {
   "cell_type": "code",
   "execution_count": 21,
   "metadata": {},
   "outputs": [
    {
     "data": {
      "text/plain": [
       "array([ 0,  1,  2,  3,  4,  5,  6,  7,  8,  9, 10, 11, 12, 13, 14, 15])"
      ]
     },
     "execution_count": 21,
     "metadata": {},
     "output_type": "execute_result"
    }
   ],
   "source": [
    "import numpy as np\n",
    "a = np.arange(16)\n",
    "a"
   ]
  },
  {
   "cell_type": "code",
   "execution_count": 24,
   "metadata": {},
   "outputs": [
    {
     "data": {
      "text/plain": [
       "array([    0,     1,     2, ..., 99997, 99998, 99999])"
      ]
     },
     "execution_count": 24,
     "metadata": {},
     "output_type": "execute_result"
    }
   ],
   "source": [
    "import numpy as np\n",
    "a2 = np.arange(100000)a2 = np.arange(100000)\n",
    "a2"
   ]
  },
  {
   "cell_type": "code",
   "execution_count": 31,
   "metadata": {},
   "outputs": [
    {
     "data": {
      "text/plain": [
       "array([[    0,     1,     2, ...,    97,    98,    99],\n",
       "       [  100,   101,   102, ...,   197,   198,   199],\n",
       "       [  200,   201,   202, ...,   297,   298,   299],\n",
       "       ...,\n",
       "       [99700, 99701, 99702, ..., 99797, 99798, 99799],\n",
       "       [99800, 99801, 99802, ..., 99897, 99898, 99899],\n",
       "       [99900, 99901, 99902, ..., 99997, 99998, 99999]])"
      ]
     },
     "execution_count": 31,
     "metadata": {},
     "output_type": "execute_result"
    }
   ],
   "source": [
    "a2 =np.arange(100000).reshape(1000,100)\n",
    "a2"
   ]
  },
  {
   "cell_type": "code",
   "execution_count": 3,
   "metadata": {},
   "outputs": [
    {
     "data": {
      "text/plain": [
       "array([[  0,   1,   2,   3,   4,   5,   6,   7,   8,   9],\n",
       "       [ 10,  11,  12,  13,  14,  15,  16,  17,  18,  19],\n",
       "       [ 20,  21,  22,  23,  24,  25,  26,  27,  28,  29],\n",
       "       [ 30,  31,  32,  33,  34,  35,  36,  37,  38,  39],\n",
       "       [ 40,  41,  42,  43,  44,  45,  46,  47,  48,  49],\n",
       "       [ 50,  51,  52,  53,  54,  55,  56,  57,  58,  59],\n",
       "       [ 60,  61,  62,  63,  64,  65,  66,  67,  68,  69],\n",
       "       [ 70,  71,  72,  73,  74,  75,  76,  77,  78,  79],\n",
       "       [ 80,  81,  82,  83,  84,  85,  86,  87,  88,  89],\n",
       "       [ 90,  91,  92,  93,  94,  95,  96,  97,  98,  99],\n",
       "       [100, 101, 102, 103, 104, 105, 106, 107, 108, 109],\n",
       "       [110, 111, 112, 113, 114, 115, 116, 117, 118, 119],\n",
       "       [120, 121, 122, 123, 124, 125, 126, 127, 128, 129],\n",
       "       [130, 131, 132, 133, 134, 135, 136, 137, 138, 139],\n",
       "       [140, 141, 142, 143, 144, 145, 146, 147, 148, 149],\n",
       "       [150, 151, 152, 153, 154, 155, 156, 157, 158, 159],\n",
       "       [160, 161, 162, 163, 164, 165, 166, 167, 168, 169],\n",
       "       [170, 171, 172, 173, 174, 175, 176, 177, 178, 179],\n",
       "       [180, 181, 182, 183, 184, 185, 186, 187, 188, 189],\n",
       "       [190, 191, 192, 193, 194, 195, 196, 197, 198, 199],\n",
       "       [200, 201, 202, 203, 204, 205, 206, 207, 208, 209],\n",
       "       [210, 211, 212, 213, 214, 215, 216, 217, 218, 219],\n",
       "       [220, 221, 222, 223, 224, 225, 226, 227, 228, 229],\n",
       "       [230, 231, 232, 233, 234, 235, 236, 237, 238, 239],\n",
       "       [240, 241, 242, 243, 244, 245, 246, 247, 248, 249],\n",
       "       [250, 251, 252, 253, 254, 255, 256, 257, 258, 259],\n",
       "       [260, 261, 262, 263, 264, 265, 266, 267, 268, 269],\n",
       "       [270, 271, 272, 273, 274, 275, 276, 277, 278, 279],\n",
       "       [280, 281, 282, 283, 284, 285, 286, 287, 288, 289],\n",
       "       [290, 291, 292, 293, 294, 295, 296, 297, 298, 299],\n",
       "       [300, 301, 302, 303, 304, 305, 306, 307, 308, 309],\n",
       "       [310, 311, 312, 313, 314, 315, 316, 317, 318, 319],\n",
       "       [320, 321, 322, 323, 324, 325, 326, 327, 328, 329],\n",
       "       [330, 331, 332, 333, 334, 335, 336, 337, 338, 339],\n",
       "       [340, 341, 342, 343, 344, 345, 346, 347, 348, 349],\n",
       "       [350, 351, 352, 353, 354, 355, 356, 357, 358, 359],\n",
       "       [360, 361, 362, 363, 364, 365, 366, 367, 368, 369],\n",
       "       [370, 371, 372, 373, 374, 375, 376, 377, 378, 379],\n",
       "       [380, 381, 382, 383, 384, 385, 386, 387, 388, 389],\n",
       "       [390, 391, 392, 393, 394, 395, 396, 397, 398, 399],\n",
       "       [400, 401, 402, 403, 404, 405, 406, 407, 408, 409],\n",
       "       [410, 411, 412, 413, 414, 415, 416, 417, 418, 419],\n",
       "       [420, 421, 422, 423, 424, 425, 426, 427, 428, 429],\n",
       "       [430, 431, 432, 433, 434, 435, 436, 437, 438, 439],\n",
       "       [440, 441, 442, 443, 444, 445, 446, 447, 448, 449],\n",
       "       [450, 451, 452, 453, 454, 455, 456, 457, 458, 459],\n",
       "       [460, 461, 462, 463, 464, 465, 466, 467, 468, 469],\n",
       "       [470, 471, 472, 473, 474, 475, 476, 477, 478, 479],\n",
       "       [480, 481, 482, 483, 484, 485, 486, 487, 488, 489],\n",
       "       [490, 491, 492, 493, 494, 495, 496, 497, 498, 499],\n",
       "       [500, 501, 502, 503, 504, 505, 506, 507, 508, 509],\n",
       "       [510, 511, 512, 513, 514, 515, 516, 517, 518, 519],\n",
       "       [520, 521, 522, 523, 524, 525, 526, 527, 528, 529],\n",
       "       [530, 531, 532, 533, 534, 535, 536, 537, 538, 539],\n",
       "       [540, 541, 542, 543, 544, 545, 546, 547, 548, 549],\n",
       "       [550, 551, 552, 553, 554, 555, 556, 557, 558, 559],\n",
       "       [560, 561, 562, 563, 564, 565, 566, 567, 568, 569],\n",
       "       [570, 571, 572, 573, 574, 575, 576, 577, 578, 579],\n",
       "       [580, 581, 582, 583, 584, 585, 586, 587, 588, 589],\n",
       "       [590, 591, 592, 593, 594, 595, 596, 597, 598, 599],\n",
       "       [600, 601, 602, 603, 604, 605, 606, 607, 608, 609],\n",
       "       [610, 611, 612, 613, 614, 615, 616, 617, 618, 619],\n",
       "       [620, 621, 622, 623, 624, 625, 626, 627, 628, 629],\n",
       "       [630, 631, 632, 633, 634, 635, 636, 637, 638, 639],\n",
       "       [640, 641, 642, 643, 644, 645, 646, 647, 648, 649],\n",
       "       [650, 651, 652, 653, 654, 655, 656, 657, 658, 659],\n",
       "       [660, 661, 662, 663, 664, 665, 666, 667, 668, 669],\n",
       "       [670, 671, 672, 673, 674, 675, 676, 677, 678, 679],\n",
       "       [680, 681, 682, 683, 684, 685, 686, 687, 688, 689],\n",
       "       [690, 691, 692, 693, 694, 695, 696, 697, 698, 699],\n",
       "       [700, 701, 702, 703, 704, 705, 706, 707, 708, 709],\n",
       "       [710, 711, 712, 713, 714, 715, 716, 717, 718, 719],\n",
       "       [720, 721, 722, 723, 724, 725, 726, 727, 728, 729],\n",
       "       [730, 731, 732, 733, 734, 735, 736, 737, 738, 739],\n",
       "       [740, 741, 742, 743, 744, 745, 746, 747, 748, 749],\n",
       "       [750, 751, 752, 753, 754, 755, 756, 757, 758, 759],\n",
       "       [760, 761, 762, 763, 764, 765, 766, 767, 768, 769],\n",
       "       [770, 771, 772, 773, 774, 775, 776, 777, 778, 779],\n",
       "       [780, 781, 782, 783, 784, 785, 786, 787, 788, 789],\n",
       "       [790, 791, 792, 793, 794, 795, 796, 797, 798, 799],\n",
       "       [800, 801, 802, 803, 804, 805, 806, 807, 808, 809],\n",
       "       [810, 811, 812, 813, 814, 815, 816, 817, 818, 819],\n",
       "       [820, 821, 822, 823, 824, 825, 826, 827, 828, 829],\n",
       "       [830, 831, 832, 833, 834, 835, 836, 837, 838, 839],\n",
       "       [840, 841, 842, 843, 844, 845, 846, 847, 848, 849],\n",
       "       [850, 851, 852, 853, 854, 855, 856, 857, 858, 859],\n",
       "       [860, 861, 862, 863, 864, 865, 866, 867, 868, 869],\n",
       "       [870, 871, 872, 873, 874, 875, 876, 877, 878, 879],\n",
       "       [880, 881, 882, 883, 884, 885, 886, 887, 888, 889],\n",
       "       [890, 891, 892, 893, 894, 895, 896, 897, 898, 899],\n",
       "       [900, 901, 902, 903, 904, 905, 906, 907, 908, 909],\n",
       "       [910, 911, 912, 913, 914, 915, 916, 917, 918, 919],\n",
       "       [920, 921, 922, 923, 924, 925, 926, 927, 928, 929],\n",
       "       [930, 931, 932, 933, 934, 935, 936, 937, 938, 939],\n",
       "       [940, 941, 942, 943, 944, 945, 946, 947, 948, 949],\n",
       "       [950, 951, 952, 953, 954, 955, 956, 957, 958, 959],\n",
       "       [960, 961, 962, 963, 964, 965, 966, 967, 968, 969],\n",
       "       [970, 971, 972, 973, 974, 975, 976, 977, 978, 979],\n",
       "       [980, 981, 982, 983, 984, 985, 986, 987, 988, 989],\n",
       "       [990, 991, 992, 993, 994, 995, 996, 997, 998, 999]])"
      ]
     },
     "execution_count": 3,
     "metadata": {},
     "output_type": "execute_result"
    }
   ],
   "source": [
    "import numpy as np\n",
    "a2=np.arange(1000).reshape(100,10)\n",
    "a2"
   ]
  },
  {
   "cell_type": "code",
   "execution_count": 6,
   "metadata": {},
   "outputs": [
    {
     "data": {
      "text/plain": [
       "array([[ 0,  1],\n",
       "       [ 2,  3],\n",
       "       [ 4,  5],\n",
       "       [ 6,  7],\n",
       "       [ 8,  9],\n",
       "       [10, 11],\n",
       "       [12, 13],\n",
       "       [14, 15],\n",
       "       [16, 17],\n",
       "       [18, 19],\n",
       "       [20, 21],\n",
       "       [22, 23],\n",
       "       [24, 25],\n",
       "       [26, 27],\n",
       "       [28, 29],\n",
       "       [30, 31],\n",
       "       [32, 33],\n",
       "       [34, 35],\n",
       "       [36, 37],\n",
       "       [38, 39],\n",
       "       [40, 41],\n",
       "       [42, 43],\n",
       "       [44, 45],\n",
       "       [46, 47],\n",
       "       [48, 49]])"
      ]
     },
     "execution_count": 6,
     "metadata": {},
     "output_type": "execute_result"
    }
   ],
   "source": [
    "import numpy as np\n",
    "a2=np.arange(50).reshape(25,2)\n",
    "a2"
   ]
  },
  {
   "cell_type": "code",
   "execution_count": 6,
   "metadata": {},
   "outputs": [
    {
     "data": {
      "text/plain": [
       "array([[1., 1., 1.],\n",
       "       [1., 1., 1.]])"
      ]
     },
     "execution_count": 6,
     "metadata": {},
     "output_type": "execute_result"
    }
   ],
   "source": [
    "#ones\n",
    "np.ones((2,3))\n"
   ]
  },
  {
   "cell_type": "code",
   "execution_count": 9,
   "metadata": {},
   "outputs": [
    {
     "data": {
      "text/plain": [
       "array([[ 1,  0,  0],\n",
       "       [ 0,  2,  0],\n",
       "       [ 0,  0, 34]])"
      ]
     },
     "execution_count": 9,
     "metadata": {},
     "output_type": "execute_result"
    }
   ],
   "source": [
    "#diagnol\n",
    "np.diag([1,2,34])"
   ]
  },
  {
   "cell_type": "markdown",
   "metadata": {},
   "source": [
    "- pandas basically use for data analysis .it is build on top to numpy only\n",
    "- we will mostly be using this pandas package a lot\n",
    "- in fact if you are going to use it heavily for data manipulation ,any sort of mechine learning model builiding,sort of data analysis ##### datavisualization."
   ]
  },
  {
   "cell_type": "code",
   "execution_count": 7,
   "metadata": {},
   "outputs": [
    {
     "data": {
      "text/plain": [
       "DatetimeIndex(['2019-08-09', '2019-08-10', '2019-08-11', '2019-08-12',\n",
       "               '2019-08-13', '2019-08-14', '2019-08-15', '2019-08-16',\n",
       "               '2019-08-17', '2019-08-18',\n",
       "               ...\n",
       "               '2019-11-29', '2019-11-30', '2019-12-01', '2019-12-02',\n",
       "               '2019-12-03', '2019-12-04', '2019-12-05', '2019-12-06',\n",
       "               '2019-12-07', '2019-12-08'],\n",
       "              dtype='datetime64[ns]', length=122, freq='D')"
      ]
     },
     "execution_count": 7,
     "metadata": {},
     "output_type": "execute_result"
    }
   ],
   "source": [
    "import pandas as pd\n",
    "a= pd.date_range(start = '08-09-2019',end='12-08-2019')\n",
    "a"
   ]
  },
  {
   "cell_type": "markdown",
   "metadata": {},
   "source": [
    "pandas as dataframes\n",
    "-dataframe is just like a table .which is going to contain as row and column\n"
   ]
  },
  {
   "cell_type": "code",
   "execution_count": 30,
   "metadata": {},
   "outputs": [
    {
     "data": {
      "text/html": [
       "<div>\n",
       "<style scoped>\n",
       "    .dataframe tbody tr th:only-of-type {\n",
       "        vertical-align: middle;\n",
       "    }\n",
       "\n",
       "    .dataframe tbody tr th {\n",
       "        vertical-align: top;\n",
       "    }\n",
       "\n",
       "    .dataframe thead th {\n",
       "        text-align: right;\n",
       "    }\n",
       "</style>\n",
       "<table border=\"1\" class=\"dataframe\">\n",
       "  <thead>\n",
       "    <tr style=\"text-align: right;\">\n",
       "      <th></th>\n",
       "      <th>temp</th>\n",
       "      <th>name</th>\n",
       "      <th>av</th>\n",
       "    </tr>\n",
       "  </thead>\n",
       "  <tbody>\n",
       "    <tr>\n",
       "      <th>0</th>\n",
       "      <td>60</td>\n",
       "      <td>reddy</td>\n",
       "      <td>10</td>\n",
       "    </tr>\n",
       "    <tr>\n",
       "      <th>1</th>\n",
       "      <td>45</td>\n",
       "      <td>rishi</td>\n",
       "      <td>30</td>\n",
       "    </tr>\n",
       "    <tr>\n",
       "      <th>2</th>\n",
       "      <td>25</td>\n",
       "      <td>rishi</td>\n",
       "      <td>30</td>\n",
       "    </tr>\n",
       "    <tr>\n",
       "      <th>3</th>\n",
       "      <td>84</td>\n",
       "      <td>rishi</td>\n",
       "      <td>20</td>\n",
       "    </tr>\n",
       "    <tr>\n",
       "      <th>4</th>\n",
       "      <td>93</td>\n",
       "      <td>reddy</td>\n",
       "      <td>10</td>\n",
       "    </tr>\n",
       "    <tr>\n",
       "      <th>5</th>\n",
       "      <td>63</td>\n",
       "      <td>rishi</td>\n",
       "      <td>20</td>\n",
       "    </tr>\n",
       "    <tr>\n",
       "      <th>6</th>\n",
       "      <td>45</td>\n",
       "      <td>rishi</td>\n",
       "      <td>30</td>\n",
       "    </tr>\n",
       "    <tr>\n",
       "      <th>7</th>\n",
       "      <td>20</td>\n",
       "      <td>reddy</td>\n",
       "      <td>20</td>\n",
       "    </tr>\n",
       "    <tr>\n",
       "      <th>8</th>\n",
       "      <td>22</td>\n",
       "      <td>reddy</td>\n",
       "      <td>79</td>\n",
       "    </tr>\n",
       "    <tr>\n",
       "      <th>9</th>\n",
       "      <td>30</td>\n",
       "      <td>rishi</td>\n",
       "      <td>20</td>\n",
       "    </tr>\n",
       "    <tr>\n",
       "      <th>10</th>\n",
       "      <td>69</td>\n",
       "      <td>reddy</td>\n",
       "      <td>20</td>\n",
       "    </tr>\n",
       "    <tr>\n",
       "      <th>11</th>\n",
       "      <td>62</td>\n",
       "      <td>rishi</td>\n",
       "      <td>79</td>\n",
       "    </tr>\n",
       "    <tr>\n",
       "      <th>12</th>\n",
       "      <td>92</td>\n",
       "      <td>reddy</td>\n",
       "      <td>30</td>\n",
       "    </tr>\n",
       "    <tr>\n",
       "      <th>13</th>\n",
       "      <td>33</td>\n",
       "      <td>reddy</td>\n",
       "      <td>30</td>\n",
       "    </tr>\n",
       "    <tr>\n",
       "      <th>14</th>\n",
       "      <td>95</td>\n",
       "      <td>reddy</td>\n",
       "      <td>30</td>\n",
       "    </tr>\n",
       "    <tr>\n",
       "      <th>15</th>\n",
       "      <td>20</td>\n",
       "      <td>reddy</td>\n",
       "      <td>79</td>\n",
       "    </tr>\n",
       "    <tr>\n",
       "      <th>16</th>\n",
       "      <td>57</td>\n",
       "      <td>rishi</td>\n",
       "      <td>79</td>\n",
       "    </tr>\n",
       "    <tr>\n",
       "      <th>17</th>\n",
       "      <td>26</td>\n",
       "      <td>rishi</td>\n",
       "      <td>79</td>\n",
       "    </tr>\n",
       "    <tr>\n",
       "      <th>18</th>\n",
       "      <td>96</td>\n",
       "      <td>rishi</td>\n",
       "      <td>10</td>\n",
       "    </tr>\n",
       "    <tr>\n",
       "      <th>19</th>\n",
       "      <td>56</td>\n",
       "      <td>rishi</td>\n",
       "      <td>30</td>\n",
       "    </tr>\n",
       "  </tbody>\n",
       "</table>\n",
       "</div>"
      ],
      "text/plain": [
       "    temp   name  av\n",
       "0     60  reddy  10\n",
       "1     45  rishi  30\n",
       "2     25  rishi  30\n",
       "3     84  rishi  20\n",
       "4     93  reddy  10\n",
       "5     63  rishi  20\n",
       "6     45  rishi  30\n",
       "7     20  reddy  20\n",
       "8     22  reddy  79\n",
       "9     30  rishi  20\n",
       "10    69  reddy  20\n",
       "11    62  rishi  79\n",
       "12    92  reddy  30\n",
       "13    33  reddy  30\n",
       "14    95  reddy  30\n",
       "15    20  reddy  79\n",
       "16    57  rishi  79\n",
       "17    26  rishi  79\n",
       "18    96  rishi  10\n",
       "19    56  rishi  30"
      ]
     },
     "execution_count": 30,
     "metadata": {},
     "output_type": "execute_result"
    }
   ],
   "source": []
  },
  {
   "cell_type": "code",
   "execution_count": 15,
   "metadata": {},
   "outputs": [
    {
     "data": {
      "text/plain": [
       "array([77, 58, 71, 25, 33, 55, 20, 47, 31, 85, 53, 80, 23, 88, 98, 24, 67,\n",
       "       86, 40, 83])"
      ]
     },
     "execution_count": 15,
     "metadata": {},
     "output_type": "execute_result"
    }
   ],
   "source": [
    "temp=np.random.randint(low=20,high=100,size=[20])\n",
    "temp"
   ]
  },
  {
   "cell_type": "code",
   "execution_count": 26,
   "metadata": {},
   "outputs": [
    {
     "data": {
      "text/plain": [
       "array(['rishi', 'rishi', 'rishi', 'reddy', 'reddy', 'reddy', 'reddy',\n",
       "       'rishi', 'rishi', 'reddy', 'reddy', 'rishi', 'rishi', 'reddy',\n",
       "       'reddy', 'rishi', 'reddy', 'reddy', 'reddy', 'rishi', 'reddy',\n",
       "       'rishi', 'reddy', 'reddy', 'reddy'], dtype='<U5')"
      ]
     },
     "execution_count": 26,
     "metadata": {},
     "output_type": "execute_result"
    }
   ],
   "source": [
    "name=np.random.choice(['rishi','reddy'],25)\n",
    "name"
   ]
  },
  {
   "cell_type": "code",
   "execution_count": 24,
   "metadata": {},
   "outputs": [
    {
     "data": {
      "text/plain": [
       "array([78, 30, 30, 30, 78, 10, 10, 20, 20, 20, 78, 30, 78, 20, 30, 30, 78,\n",
       "       20, 20, 30, 20, 20, 10, 30, 20, 20, 78, 78, 30, 10, 30, 78, 30, 20,\n",
       "       10, 20, 10, 30, 30, 20, 78, 78, 78, 20, 30, 20, 30, 30, 30, 20, 78,\n",
       "       10, 10, 10, 20, 10, 10, 10, 30, 30, 30, 30, 10, 30, 10, 78, 30, 20,\n",
       "       10, 78, 78, 30, 10, 78, 20, 30])"
      ]
     },
     "execution_count": 24,
     "metadata": {},
     "output_type": "execute_result"
    }
   ],
   "source": [
    "av=np.random.choice([10,20,30,78],76)\n",
    "av"
   ]
  },
  {
   "cell_type": "code",
   "execution_count": 27,
   "metadata": {},
   "outputs": [
    {
     "data": {
      "text/plain": [
       "(20, 3)"
      ]
     },
     "execution_count": 27,
     "metadata": {},
     "output_type": "execute_result"
    }
   ],
   "source": [
    "df.shape\n"
   ]
  },
  {
   "cell_type": "code",
   "execution_count": 28,
   "metadata": {},
   "outputs": [
    {
     "data": {
      "text/plain": [
       "Index(['temp', 'name', 'av'], dtype='object')"
      ]
     },
     "execution_count": 28,
     "metadata": {},
     "output_type": "execute_result"
    }
   ],
   "source": [
    "df.columns"
   ]
  },
  {
   "cell_type": "code",
   "execution_count": 31,
   "metadata": {},
   "outputs": [
    {
     "data": {
      "text/plain": [
       "0     reddy\n",
       "1     rishi\n",
       "2     rishi\n",
       "3     rishi\n",
       "4     reddy\n",
       "5     rishi\n",
       "6     rishi\n",
       "7     reddy\n",
       "8     reddy\n",
       "9     rishi\n",
       "10    reddy\n",
       "11    rishi\n",
       "12    reddy\n",
       "13    reddy\n",
       "14    reddy\n",
       "15    reddy\n",
       "16    rishi\n",
       "17    rishi\n",
       "18    rishi\n",
       "19    rishi\n",
       "Name: name, dtype: object"
      ]
     },
     "execution_count": 31,
     "metadata": {},
     "output_type": "execute_result"
    }
   ],
   "source": [
    "import numpy as np\n",
    "temp=np.random.randint(low=20,high=100,size=[20])\n",
    "name=np.random.choice(['rishi','reddy'],25)\n",
    "av=np.random.choice([10,20,30,79],67)\n",
    "a=list(zip(temp,name,av))\n",
    "df=pd.DataFrame(data=a,columns=['temp','name','av'])\n",
    "df"
   ]
  },
  {
   "cell_type": "code",
   "execution_count": 32,
   "metadata": {},
   "outputs": [
    {
     "name": "stdout",
     "output_type": "stream",
     "text": [
      "<class 'pandas.core.frame.DataFrame'>\n",
      "RangeIndex: 20 entries, 0 to 19\n",
      "Data columns (total 3 columns):\n",
      "temp    20 non-null int64\n",
      "name    20 non-null object\n",
      "av      20 non-null int64\n",
      "dtypes: int64(2), object(1)\n",
      "memory usage: 560.0+ bytes\n"
     ]
    }
   ],
   "source": [
    "df.info()"
   ]
  },
  {
   "cell_type": "markdown",
   "metadata": {},
   "source": [
    "import numpy as np\n",
    "qwe=np.random.randint(low=20,high=100,size=[20])\n",
    "per=np.random.choice(['rishi','reddy'],25)\n",
    "num=np.random.choice([10,20,30,79],67)\n",
    "a=list(zip(qwe,per,num))\n",
    "df=pd.DataFrame(data=a,columns=['qwe','per','num'])\n",
    "df"
   ]
  },
  {
   "cell_type": "markdown",
   "metadata": {},
   "source": [
    "# data visualization"
   ]
  },
  {
   "cell_type": "markdown",
   "metadata": {},
   "source": [
    "-matplotlib is a plotting library for a python programming language and its numerical mathematics extension numpy\n",
    "-data is graphical format in a graphical representation \n",
    "- different types of graph representation \n",
    "- different types of graph representation .\n",
    "line graph(linear graph)\n",
    "histogram graph\n",
    "non-linear graph\n",
    "\n"
   ]
  },
  {
   "cell_type": "markdown",
   "metadata": {},
   "source": [
    "# line graph  or linear graph\n"
   ]
  },
  {
   "cell_type": "markdown",
   "metadata": {},
   "source": [
    "line graph is a type of graph which displays information as aeries of dat points called 'markers' connected by straight line segments.\n",
    "line graphs are usally used to find relation ship between two data sets on different axis ;for instances X,Y"
   ]
  },
  {
   "cell_type": "code",
   "execution_count": 38,
   "metadata": {},
   "outputs": [
    {
     "data": {
      "image/png": "[encoded data removed]",
      "text/plain": [
       "<Figure size 432x288 with 1 Axes>"
      ]
     },
     "metadata": {},
     "output_type": "display_data"
    }
   ],
   "source": [
    "from  matplotlib import pyplot as plt\n",
    "plt.title(\"linear graph\")\n",
    "plt.plot([1,2,3],[1,2,3])\n",
    "plt.show()"
   ]
  },
  {
   "cell_type": "code",
   "execution_count": 6,
   "metadata": {},
   "outputs": [
    {
     "data": {
      "text/plain": [
       "Text(0.5,1,'HISTOGRAM')"
      ]
     },
     "execution_count": 6,
     "metadata": {},
     "output_type": "execute_result"
    },
    {
     "data": {
      "image/png": "[encoded data removed]",
      "text/plain": [
       "<Figure size 432x288 with 1 Axes>"
      ]
     },
     "metadata": {},
     "output_type": "display_data"
    }
   ],
   "source": [
    "from matplotlib import pyplot as plt\n",
    "y=[1,2,3,4,5,67,8]\n",
    "plt.title(\"HISTOGRAM\")\n"
   ]
  },
  {
   "cell_type": "code",
   "execution_count": null,
   "metadata": {},
   "outputs": [],
   "source": []
  },
  {
   "cell_type": "code",
   "execution_count": null,
   "metadata": {},
   "outputs": [],
   "source": []
  },
  {
   "cell_type": "code",
   "execution_count": null,
   "metadata": {},
   "outputs": [],
   "source": []
  },
  {
   "cell_type": "code",
   "execution_count": null,
   "metadata": {},
   "outputs": [],
   "source": []
  }
 ],
 "metadata": {
  "kernelspec": {
   "display_name": "Python 3",
   "language": "python",
   "name": "python3"
  },
  "language_info": {
   "codemirror_mode": {
    "name": "ipython",
    "version": 3
   },
   "file_extension": ".py",
   "mimetype": "text/x-python",
   "name": "python",
   "nbconvert_exporter": "python",
   "pygments_lexer": "ipython3",
   "version": "3.6.5"
  }
 },
 "nbformat": 4,
 "nbformat_minor": 2
}
