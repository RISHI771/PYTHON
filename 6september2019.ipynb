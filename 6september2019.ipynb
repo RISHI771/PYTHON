{
 "cells": [
  {
   "cell_type": "markdown",
   "metadata": {},
   "source": [
    "dict={'k1':'name','k2':'age','k3':'number'}\n",
    "dict"
   ]
  },
  {
   "cell_type": "code",
   "execution_count": 6,
   "metadata": {},
   "outputs": [
    {
     "data": {
      "text/plain": [
       "'name'"
      ]
     },
     "execution_count": 6,
     "metadata": {},
     "output_type": "execute_result"
    }
   ],
   "source": [
    "dict['k1']\n",
    "    "
   ]
  },
  {
   "cell_type": "code",
   "execution_count": 7,
   "metadata": {},
   "outputs": [
    {
     "data": {
      "text/plain": [
       "dict_items([('k1', 'name'), ('k2', 'age'), ('k3', 'number')])"
      ]
     },
     "execution_count": 7,
     "metadata": {},
     "output_type": "execute_result"
    }
   ],
   "source": [
    "dict.items()"
   ]
  },
  {
   "cell_type": "code",
   "execution_count": 13,
   "metadata": {},
   "outputs": [
    {
     "name": "stdout",
     "output_type": "stream",
     "text": [
      "contact added\n"
     ]
    }
   ],
   "source": [
    "## adding a contact\n",
    "## name,phonenumber\n",
    "contacts={}\n",
    "def addcontact(name,phonenumber):\n",
    "    if name not in contacts:\n",
    "        contacts[name]=phonenumber\n",
    "        print(\"contact added\")\n",
    "    else:\n",
    "        print(\"contact already exists\")\n",
    "addcontact('name1',7134681480)"
   ]
  },
  {
   "cell_type": "code",
   "execution_count": 14,
   "metadata": {},
   "outputs": [
    {
     "data": {
      "text/plain": [
       "{'name1': 7134681480}"
      ]
     },
     "execution_count": 14,
     "metadata": {},
     "output_type": "execute_result"
    }
   ],
   "source": [
    "contacts"
   ]
  },
  {
   "cell_type": "code",
   "execution_count": 15,
   "metadata": {},
   "outputs": [
    {
     "name": "stdout",
     "output_type": "stream",
     "text": [
      "contact already exists\n"
     ]
    }
   ],
   "source": [
    "addcontact('name1',7134681480)"
   ]
  },
  {
   "cell_type": "code",
   "execution_count": 19,
   "metadata": {},
   "outputs": [
    {
     "name": "stdout",
     "output_type": "stream",
     "text": [
      "doesnot exist\n"
     ]
    }
   ],
   "source": [
    "##searching a contact\n",
    "##using key'name'\n",
    "def searchcontact(name):\n",
    "    if name in contacts:\n",
    "        print(name,\":\",contacts[name])\n",
    "    else:\n",
    "        print(\"doesnot exist\")\n",
    "searchcontact('name2')"
   ]
  },
  {
   "cell_type": "code",
   "execution_count": 22,
   "metadata": {},
   "outputs": [
    {
     "name": "stdout",
     "output_type": "stream",
     "text": [
      "2 contact added successfully\n"
     ]
    }
   ],
   "source": [
    "##merging two contacts\n",
    "##using update method\n",
    "def mergecontacts(newcontacts):\n",
    "    contacts.update(newcontacts)\n",
    "    print(len(newcontacts.keys()),\"contact added successfully\")\n",
    "newcontacts={'name2':9876543210,'name3':1234567890}\n",
    "mergecontacts(newcontacts)"
   ]
  },
  {
   "cell_type": "code",
   "execution_count": 28,
   "metadata": {},
   "outputs": [
    {
     "name": "stdout",
     "output_type": "stream",
     "text": [
      "contact added successfully\n",
      "2 contact added successfully\n"
     ]
    }
   ],
   "source": [
    "##dictionary:mobilecontacts\n",
    "## add a contact\n",
    "##key:'a',value:9989870478\n",
    "def mobilecontacts(name,phonenumber):\n",
    "    if name not in contacts:\n",
    "        print(\"contact added successfully\")\n",
    "    else:\n",
    "        print(\"contact already exists\")\n",
    "def applemobile(newcontacts):\n",
    "    contacts.update(newcontacts)\n",
    "    print(len(newcontacts.keys()),\"contact added successfully\")\n",
    "newcontacts={'b':2345678901,'c':3456789012}\n",
    "mobilecontacts('a',9989870478)\n",
    "applemobile(newcontacts)\n",
    "    \n",
    "        \n",
    "\n"
   ]
  },
  {
   "cell_type": "code",
   "execution_count": 42,
   "metadata": {},
   "outputs": [
    {
     "data": {
      "text/plain": [
       "False"
      ]
     },
     "execution_count": 42,
     "metadata": {},
     "output_type": "execute_result"
    }
   ],
   "source": [
    "from packages.numerical import prime\n",
    "prime(10)"
   ]
  },
  {
   "cell_type": "code",
   "execution_count": 52,
   "metadata": {},
   "outputs": [
    {
     "name": "stdout",
     "output_type": "stream",
     "text": [
      "12\n",
      "57\n",
      "39\n",
      "37\n",
      "58\n",
      "77\n",
      "73\n",
      "91\n",
      "65\n",
      "87\n"
     ]
    }
   ],
   "source": [
    "import random\n",
    "def generatemarks(n,lb,ub):\n",
    "    for i in range(0,n):\n",
    "        print(random.randint(lb,ub))\n",
    "generatemarks(10,0,100)        \n"
   ]
  },
  {
   "cell_type": "code",
   "execution_count": 51,
   "metadata": {},
   "outputs": [
    {
     "name": "stdout",
     "output_type": "stream",
     "text": [
      "4\n",
      "1\n",
      "3\n",
      "7\n",
      "12\n",
      "2\n",
      "12\n",
      "5\n",
      "20\n",
      "11\n"
     ]
    }
   ],
   "source": [
    "import random\n",
    "def generatemarks(n,lb,ub):\n",
    "    for i in range(0,n):\n",
    "        print(random.randint(lb,ub))\n",
    "generatemarks(10,0,25)        "
   ]
  },
  {
   "cell_type": "markdown",
   "metadata": {},
   "source": [
    "## regular expression \n",
    "#### phone number:pattern=[6-9][0-9]{9}$\n"
   ]
  },
  {
   "cell_type": "code",
   "execution_count": 8,
   "metadata": {},
   "outputs": [
    {
     "name": "stdout",
     "output_type": "stream",
     "text": [
      "valid\n"
     ]
    }
   ],
   "source": [
    "##function for phonenumber validation using \n",
    "## regular expression\n",
    "import re\n",
    "def phonenumbervalidator(number):\n",
    "    pattern='^[6-9][0-9]{9}$'\n",
    "    if re.match(pattern,number):\n",
    "        print('valid')\n",
    "    else:\n",
    "        print('invalid')\n",
    "\n",
    "phonenumbervalidator('8897979802')"
   ]
  },
  {
   "cell_type": "code",
   "execution_count": 11,
   "metadata": {},
   "outputs": [
    {
     "name": "stdout",
     "output_type": "stream",
     "text": [
      "valid\n"
     ]
    }
   ],
   "source": [
    "import re\n",
    "def phonenumbervalidator(number):\n",
    "    pattern='^[0-9][0-9]{9}$'\n",
    "    if re.match(pattern,number):\n",
    "        print('valid')\n",
    "    else:\n",
    "        print('invalid')\n",
    "phonenumbervalidator('0123456789')"
   ]
  },
  {
   "cell_type": "code",
   "execution_count": 15,
   "metadata": {},
   "outputs": [
    {
     "ename": "IndentationError",
     "evalue": "unexpected indent (<ipython-input-15-6698e30203ee>, line 8)",
     "output_type": "error",
     "traceback": [
      "\u001b[1;36m  File \u001b[1;32m\"<ipython-input-15-6698e30203ee>\"\u001b[1;36m, line \u001b[1;32m8\u001b[0m\n\u001b[1;33m    if re.match(pattern,idd):\u001b[0m\n\u001b[1;37m    ^\u001b[0m\n\u001b[1;31mIndentationError\u001b[0m\u001b[1;31m:\u001b[0m unexpected indent\n"
     ]
    }
   ],
   "source": [
    "## pattern for email validation\n",
    "##email id:username,domain,extension\n",
    "## pattern :'^[a-z0-9][a-z0-9_.]{3,18}[@][a-z0-9]{4,18}\n",
    "##[.][a-z]{2,4}'\n",
    "import re\n",
    "def emailvalidation(idd):\n",
    "    pattern ='^[a-z0-9][a-z0-9_.]{3,18}[@][a-z0-9]{4,18}[.][a-z]{2,4}'\n",
    "        if re.match(pattern,idd):\n",
    "            print(\"valid\")\n",
    "        else:\n",
    "            print(\"invalid\")\n",
    "emailvalidation('mukkarishitareddy@gmail.com')            \n",
    "    "
   ]
  },
  {
   "cell_type": "markdown",
   "metadata": {},
   "source": [
    "## file handling\n",
    "its a collection of related information\n",
    "basics steps\n",
    "   - opening a file\n",
    "   - performing operations\n",
    "   - close a file\n",
    "   "
   ]
  },
  {
   "cell_type": "markdown",
   "metadata": {},
   "source": [
    "## syntax:file_obj=open(\"filepath\",\"mode\")\n"
   ]
  },
  {
   "cell_type": "code",
   "execution_count": 3,
   "metadata": {},
   "outputs": [
    {
     "name": "stdout",
     "output_type": "stream",
     "text": [
      "\n"
     ]
    }
   ],
   "source": [
    "f=open(\"datafiles/data.txt\",\"r\")\n",
    "print(f.read())"
   ]
  },
  {
   "cell_type": "code",
   "execution_count": 8,
   "metadata": {},
   "outputs": [],
   "source": [
    "with open(\"datafiles/data.txt\",\"w\") as f:\n",
    "    f.write(\"line 5\")"
   ]
  },
  {
   "cell_type": "code",
   "execution_count": 14,
   "metadata": {},
   "outputs": [
    {
     "name": "stdout",
     "output_type": "stream",
     "text": [
      "13\n",
      "35\n",
      "0\n"
     ]
    }
   ],
   "source": [
    "with open(\"datafiles/data.txt\",'a+') as f:\n",
    "    f.read()\n",
    "    print(f.tell())\n",
    "    f.write(\"line 2\\nline 3\\nline 4\")\n",
    "    print(f.tell())\n",
    "    f.seek(0)\n",
    "    print(f.tell())"
   ]
  },
  {
   "cell_type": "code",
   "execution_count": 55,
   "metadata": {},
   "outputs": [
    {
     "name": "stdout",
     "output_type": "stream",
     "text": [
      "['workshop', 'python', 'programming']\n"
     ]
    }
   ],
   "source": [
    "with open(\"datafiles/data.txt\") as f:\n",
    "    fh = f.read()\n",
    "    words = fh.split()\n",
    "    print(words)"
   ]
  },
  {
   "cell_type": "code",
   "execution_count": 52,
   "metadata": {},
   "outputs": [
    {
     "name": "stdout",
     "output_type": "stream",
     "text": [
      "['workshop\\n', 'python programming\\n']\n"
     ]
    }
   ],
   "source": [
    "with open(\"datafiles/data.txt\") as f: \n",
    "    print(f.readlines())"
   ]
  },
  {
   "cell_type": "code",
   "execution_count": 51,
   "metadata": {},
   "outputs": [],
   "source": [
    "def readfile(filepath):\n",
    "    with open (filepath,'r') as f:\n",
    "        filedata = f.read() #reads the entire file data\n",
    "        return filedata\n",
    "    filepath = 'datafiles/data.txt'\n",
    "    print(readfile(filepath))"
   ]
  },
  {
   "cell_type": "code",
   "execution_count": 53,
   "metadata": {},
   "outputs": [
    {
     "name": "stdout",
     "output_type": "stream",
     "text": [
      "2\n"
     ]
    }
   ],
   "source": [
    "def linecount(filename):\n",
    "    count=0\n",
    "    with open (filename,'r') as f:\n",
    "        for i in f:\n",
    "            count=count+1\n",
    "        return count\n",
    "filename = 'datafiles/data.txt'\n",
    "print(linecount(filename))"
   ]
  },
  {
   "cell_type": "code",
   "execution_count": 54,
   "metadata": {},
   "outputs": [
    {
     "name": "stdout",
     "output_type": "stream",
     "text": [
      "3\n"
     ]
    }
   ],
   "source": [
    "import re\n",
    "def wordcount(filepath):\n",
    "    pattern ='[\\n]'\n",
    "    filedata =readfile(filepath)\n",
    "    count = len(re.split(pattern,filedata))\n",
    "    return count\n",
    "filepath = \"datafiles/data.txt\"\n",
    "print(wordcount(filepath))"
   ]
  },
  {
   "cell_type": "code",
   "execution_count": 4,
   "metadata": {},
   "outputs": [
    {
     "name": "stdout",
     "output_type": "stream",
     "text": [
      "['python', 'python']\n"
     ]
    }
   ],
   "source": [
    "with open(\"datafiles/data.txt\",'r') as f:\n",
    "    fh = f.read()\n",
    "    words = fh.split()\n",
    "    print(words)"
   ]
  },
  {
   "cell_type": "code",
   "execution_count": 5,
   "metadata": {},
   "outputs": [
    {
     "ename": "NameError",
     "evalue": "name 'word' is not defined",
     "output_type": "error",
     "traceback": [
      "\u001b[1;31m---------------------------------------------------------------------------\u001b[0m",
      "\u001b[1;31mNameError\u001b[0m                                 Traceback (most recent call last)",
      "\u001b[1;32m<ipython-input-5-59ba6405622b>\u001b[0m in \u001b[0;36m<module>\u001b[1;34m()\u001b[0m\n\u001b[0;32m      4\u001b[0m         \u001b[1;32mif\u001b[0m \u001b[0mi\u001b[0m \u001b[1;32mnot\u001b[0m \u001b[1;32min\u001b[0m \u001b[0mf\u001b[0m\u001b[1;33m:\u001b[0m\u001b[1;33m\u001b[0m\u001b[0m\n\u001b[0;32m      5\u001b[0m             \u001b[0mword\u001b[0m\u001b[1;33m=\u001b[0m\u001b[0mfh\u001b[0m\u001b[1;33m.\u001b[0m\u001b[0mappend\u001b[0m\u001b[1;33m(\u001b[0m\u001b[1;33m)\u001b[0m\u001b[1;33m\u001b[0m\u001b[0m\n\u001b[1;32m----> 6\u001b[1;33m     \u001b[0mprint\u001b[0m\u001b[1;33m(\u001b[0m\u001b[0mword\u001b[0m\u001b[1;33m)\u001b[0m\u001b[1;33m\u001b[0m\u001b[0m\n\u001b[0m",
      "\u001b[1;31mNameError\u001b[0m: name 'word' is not defined"
     ]
    }
   ],
   "source": [
    "with open(\"datafiles/data.txt\",'r') as f:\n",
    "    fh=f.read()\n",
    "    for i in f:\n",
    "        if i not in f:\n",
    "            words=fh.append()\n",
    "    print(words)"
   ]
  },
  {
   "cell_type": "code",
   "execution_count": 8,
   "metadata": {},
   "outputs": [],
   "source": [
    "def uniquedata(filepath):\n",
    "    with open(filepath,'r') as f:\n",
    "        data = f.read()\n",
    "        allwords = data.split()\n",
    "        unique = []\n",
    "        #for every element in the main list.\n",
    "        #check if it exists in the unique list.\n",
    "        #else if it already exists,add it to unique\n",
    "        #else if it already exists,move on to the\n",
    "    for element in allwords:\n",
    "        if elements not in unique:\n",
    "            unique.append(element)\n",
    "    return unique()\n",
    "        "
   ]
  },
  {
   "cell_type": "code",
   "execution_count": 10,
   "metadata": {},
   "outputs": [],
   "source": [
    "def wordfrequency(filepath):\n",
    "    with open(filepath,'r') as f:\n",
    "        data=f.read()\n",
    "        allwords = data.split()\n",
    "        wordfreq={}\n",
    "        \n",
    "                \n",
    "    "
   ]
  },
  {
   "cell_type": "markdown",
   "metadata": {},
   "source": [
    "# sets and its methods"
   ]
  },
  {
   "cell_type": "code",
   "execution_count": 11,
   "metadata": {},
   "outputs": [
    {
     "name": "stdout",
     "output_type": "stream",
     "text": [
      "{123456, 3456, 23456, 'zxvbnm', 'abcd', 1234}\n"
     ]
    }
   ],
   "source": [
    "l=(1234,\"abcd\",123456,23456,3456,\"zxvbnm\")\n",
    "print(set(l))"
   ]
  },
  {
   "cell_type": "markdown",
   "metadata": {},
   "source": [
    "# set methods\n",
    "add()\n",
    "\n",
    "union()\n",
    "\n",
    "intersection()\n",
    "\n",
    "\n",
    "difference()\n",
    "\n",
    "\n",
    "update()\n"
   ]
  },
  {
   "cell_type": "code",
   "execution_count": 15,
   "metadata": {},
   "outputs": [
    {
     "name": "stdout",
     "output_type": "stream",
     "text": [
      "None\n"
     ]
    }
   ],
   "source": [
    "s1={\"abc\",2,\"qwert\",1234,2345,\"yuiop\"}\n",
    "print(s1.add(\"3456\"))"
   ]
  },
  {
   "cell_type": "code",
   "execution_count": 19,
   "metadata": {},
   "outputs": [
    {
     "name": "stdout",
     "output_type": "stream",
     "text": [
      "{'abc', 2, 2345, 'hjkl', 'yuiop', 'qwert', 1234, 8987, 'asdfg'}\n",
      "{1234}\n"
     ]
    }
   ],
   "source": [
    "s1={\"abc\",2,\"qwert\",1234,2345,\"yuiop\"}\n",
    "s2={\"asdfg\",\"hjkl\",8987,1234}\n",
    "print(s1.union(s2))\n",
    "print(s1.intersection(s2))"
   ]
  },
  {
   "cell_type": "code",
   "execution_count": 21,
   "metadata": {},
   "outputs": [
    {
     "name": "stdout",
     "output_type": "stream",
     "text": [
      "{'abc', 2, 2345, 'yuiop', 'qwert'}\n"
     ]
    }
   ],
   "source": [
    "s1={\"abc\",2,\"qwert\",1234,2345,\"yuiop\"}\n",
    "s2={\"asdfg\",\"hjkl\",8987,1234}\n",
    "print(s1.difference(s2))"
   ]
  },
  {
   "cell_type": "code",
   "execution_count": 22,
   "metadata": {},
   "outputs": [
    {
     "data": {
      "text/plain": [
       "{1234, 2, 2345, 8987, 'abc', 'asdfg', 'hjkl', 'qwert', 'yuiop'}"
      ]
     },
     "execution_count": 22,
     "metadata": {},
     "output_type": "execute_result"
    }
   ],
   "source": [
    "s1={\"abc\",2,\"qwert\",1234,2345,\"yuiop\"}\n",
    "s2={\"asdfg\",\"hjkl\",8987,1234}\n",
    "s1.update(s2)\n",
    "s1"
   ]
  },
  {
   "cell_type": "code",
   "execution_count": 24,
   "metadata": {},
   "outputs": [
    {
     "data": {
      "text/plain": [
       "['__and__',\n",
       " '__class__',\n",
       " '__contains__',\n",
       " '__delattr__',\n",
       " '__dir__',\n",
       " '__doc__',\n",
       " '__eq__',\n",
       " '__format__',\n",
       " '__ge__',\n",
       " '__getattribute__',\n",
       " '__gt__',\n",
       " '__hash__',\n",
       " '__iand__',\n",
       " '__init__',\n",
       " '__init_subclass__',\n",
       " '__ior__',\n",
       " '__isub__',\n",
       " '__iter__',\n",
       " '__ixor__',\n",
       " '__le__',\n",
       " '__len__',\n",
       " '__lt__',\n",
       " '__ne__',\n",
       " '__new__',\n",
       " '__or__',\n",
       " '__rand__',\n",
       " '__reduce__',\n",
       " '__reduce_ex__',\n",
       " '__repr__',\n",
       " '__ror__',\n",
       " '__rsub__',\n",
       " '__rxor__',\n",
       " '__setattr__',\n",
       " '__sizeof__',\n",
       " '__str__',\n",
       " '__sub__',\n",
       " '__subclasshook__',\n",
       " '__xor__',\n",
       " 'add',\n",
       " 'clear',\n",
       " 'copy',\n",
       " 'difference',\n",
       " 'difference_update',\n",
       " 'discard',\n",
       " 'intersection',\n",
       " 'intersection_update',\n",
       " 'isdisjoint',\n",
       " 'issubset',\n",
       " 'issuperset',\n",
       " 'pop',\n",
       " 'remove',\n",
       " 'symmetric_difference',\n",
       " 'symmetric_difference_update',\n",
       " 'union',\n",
       " 'update']"
      ]
     },
     "execution_count": 24,
     "metadata": {},
     "output_type": "execute_result"
    }
   ],
   "source": [
    "dir(set)"
   ]
  },
  {
   "cell_type": "code",
   "execution_count": 5,
   "metadata": {},
   "outputs": [],
   "source": [
    "# write a program for linear search in a list\n",
    "# if key is found print\"1\"\n",
    "# else print\"-1\"\n",
    "# i/p l=[10,9,8,7,6],5\n",
    "# o/p=-1\n"
   ]
  },
  {
   "cell_type": "code",
   "execution_count": 6,
   "metadata": {},
   "outputs": [],
   "source": [
    "# find the square root of a number in  list\n",
    "# without using \n",
    "# math package\n"
   ]
  },
  {
   "cell_type": "code",
   "execution_count": 7,
   "metadata": {},
   "outputs": [],
   "source": [
    "# using a regular expression \n",
    "# add a name,phonenumber and email to contacts\n",
    "#dictionary\n"
   ]
  },
  {
   "cell_type": "code",
   "execution_count": 8,
   "metadata": {},
   "outputs": [],
   "source": [
    "#design a program to find maximum,minimum\n",
    "#find unique list\n",
    "#find max and min values\n",
    "#find average"
   ]
  },
  {
   "cell_type": "code",
   "execution_count": null,
   "metadata": {},
   "outputs": [],
   "source": []
  }
 ],
 "metadata": {
  "kernelspec": {
   "display_name": "Python 3",
   "language": "python",
   "name": "python3"
  },
  "language_info": {
   "codemirror_mode": {
    "name": "ipython",
    "version": 3
   },
   "file_extension": ".py",
   "mimetype": "text/x-python",
   "name": "python",
   "nbconvert_exporter": "python",
   "pygments_lexer": "ipython3",
   "version": "3.6.5"
  }
 },
 "nbformat": 4,
 "nbformat_minor": 2
}
